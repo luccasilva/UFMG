{
 "cells": [
  {
   "cell_type": "markdown",
   "metadata": {
    "colab_type": "text",
    "id": "uQ62eZUEvexJ"
   },
   "source": [
    "# Exercício de Programação 2: PageRank\n",
    "\n",
    "<font color=\"red\">**Prazo de submissão: 23:55h do dia 24/08/2020** </font>\n",
    "\n",
    "2020.1 Álgebra Linear Computacional - DCC - UFMG\n",
    "\n",
    "Erickson e Fabricio\n",
    "\n",
    "Instruções:\n",
    "* Antes de submeter suas soluções, certifique-se de que tudo roda como esperado. Primeiro, **reinicie o kernel** no menu, selecione Kernel$\\rightarrow$Restart e então execute **todas as células** (no menu, Cell$\\rightarrow$Run All)\n",
    "* **Apenas o arquivo .py deve ser submetido**. Você deve salvar o seu notebook em Python script (no menu, File $\\rightarrow$ Download .py) e enviar o script Python no Laboratório de Programação Virtual (lá você pode checar as instruções detalhadas para obter sua nota automática).\n",
    "* **Preste bastante atenção nos nomes das variáveis e métodos** (irá estar em negrito), se elas estiverem diferentes do que foi pedido no exercício, *sua resposta será considerada incorreta pelo corretor automático*.\n",
    "* Use apenas a biblioteca **numpy**.\n",
    "* Não deixe de preencher seu nome e número de matrícula na célula a seguir"
   ]
  },
  {
   "cell_type": "markdown",
   "metadata": {
    "colab_type": "text",
    "id": "RPKeHzw6vexK"
   },
   "source": [
    "**Nome:** *Lucca Silva Medeiros*\n",
    "\n",
    "**Matrícula:** *2019054773*\n",
    "\n",
    "* Todo material consultado na Internet deve ser referenciado (incluir URL).\n",
    "\n",
    "Este trabalho está dividido em três partes:\n",
    " * **Parte 0**: Esta parte não vale nota, mas é fundamental para entender o que se pede a seguir.\n",
    " * **Parte 1**: Pagerank sem saltos aleatórios em grafo pequeno\n",
    " * **Parte 2**: Pagerank (com saltos aleatórios) em grafo pequeno"
   ]
  },
  {
   "cell_type": "markdown",
   "metadata": {
    "colab_type": "text",
    "id": "Oz9PxS-YvexL"
   },
   "source": [
    "## Parte 0: Revisão de conceitos\n",
    "\n",
    "I. O **primeiro autovetor** (isto é, o autovetor associado ao maior autovalor em módulo) pode ser calculado rapidamente através do método da potência, desde que o *gap* entre o maior e o segundo maior autovalor (em módulo) seja grande. Uma implementação simples do método da potência é mostrada a seguir."
   ]
  },
  {
   "cell_type": "code",
   "execution_count": 1,
   "metadata": {
    "colab": {},
    "colab_type": "code",
    "id": "_HiRBalhvexL"
   },
   "outputs": [],
   "source": [
    "import numpy as np\n",
    "\n",
    "def powerMethod(A, niter=10):\n",
    "    n = len(A)\n",
    "    w = np.ones((n,1))/n\n",
    "    for i in range(niter):\n",
    "        w = A.dot(w)        \n",
    "    return w"
   ]
  },
  {
   "cell_type": "markdown",
   "metadata": {
    "colab_type": "text",
    "id": "QI7kGQZZvexQ"
   },
   "source": [
    "II. Dado um grafo $G=(V,E)$, podemos obter uma **matriz de probabilidade de transição** $P$ dividindo-se cada linha de $A$ pela soma dos elementos da linha. Seja $D = A \\times \\mathbf{1}$ a matriz diagonal contendo a soma das linhas de $A$. Temos que\n",
    "\n",
    "$$\n",
    "P = D^{-1} \\times A.\n",
    "$$"
   ]
  },
  {
   "cell_type": "markdown",
   "metadata": {
    "colab_type": "text",
    "id": "b2cJ5hesvexR"
   },
   "source": [
    "III. A matriz de probabilidade de transição $P$ de certos grafos direcionados satisfaz\n",
    "\n",
    "$$\n",
    "v^\\top P = v^\\top \\textrm{ou $P^\\top v = v$},\n",
    "$$\n",
    "\n",
    "onde $v$ é o primeiro autovetor de $P^\\top$. A equação da direita é mais fácil de ser utilizada, pois ela tem a forma canônica $Ax=b$. Já a equação da direita é mais fácil de ser interpretada. Para todo $j=1,\\ldots,n$,\n",
    "\n",
    "$$\n",
    "\\sum_{i=1} v_i P_{ij} = v_j \\\\\n",
    "\\sum_{i=1} v_i \\frac{A_{ij}}{D_{ii}} = v_j \\\\\n",
    "\\sum_{i:(i,j) \\in E} v_i \\frac{1}{D_{ii}} = v_j\n",
    "$$"
   ]
  },
  {
   "cell_type": "markdown",
   "metadata": {
    "colab_type": "text",
    "id": "oW-klTh6vexR"
   },
   "source": [
    "IV. Assuma que $v$ seja normalizado de forma que $\\sum_j v_j = 1$. O PageRank (sem saltos) de um vértice $j$ é dado por $v_j$, onde $v$ é o primeiro autovetor de $P^\\top$. Esta é uma maneira de medir sua relevância. A intuição da Equação $\\sum_{i:(i,j) \\in E} v_i /D_{ii} = v_j$ é que a relevância de $j$ é a soma das relevâncias dos vértices $i$ que apontam para $j$ normalizados pelos seus respectivos graus de saída."
   ]
  },
  {
   "cell_type": "markdown",
   "metadata": {
    "colab_type": "text",
    "id": "znlbzFthvexS"
   },
   "source": [
    "## Parte 1: Pagerank sem saltos aleatórios em grafo pequeno\n",
    "\n",
    "Considere o grafo a seguir composto por $n=4$ vértices e $m=8$ arestas. \n",
    "<img src=\"images/directedgraph.png\"/>\n",
    "\n",
    "Certifique-se de que encontrou as $m=8$ arestas."
   ]
  },
  {
   "cell_type": "markdown",
   "metadata": {
    "colab_type": "text",
    "id": "crXuarjrvexS"
   },
   "source": [
    "**1.1** Crie um numpy array chamado <b> A </b>, contendo a matriz de adjacência."
   ]
  },
  {
   "cell_type": "code",
   "execution_count": 2,
   "metadata": {},
   "outputs": [],
   "source": [
    "import numpy as np\n",
    "\n",
    "A = np.array([[0,1,1,0],[0,0,1,1],[0,0,0,1],[1,1,1,0]])\n"
   ]
  },
  {
   "cell_type": "markdown",
   "metadata": {
    "colab_type": "text",
    "id": "jxIdLmlyvexZ"
   },
   "source": [
    "**1.2** Escreva uma função chamada <b>matrizDeTransicao</b> que recebe como entrada uma matriz $n \\times n$ e retorna a matriz de probabilidade de transição desta matriz. Aplique a função em <b>A</b> e armazene o resultado na variável <b>P</b>, e depois imprima <b>P</b>."
   ]
  },
  {
   "cell_type": "code",
   "execution_count": 3,
   "metadata": {},
   "outputs": [
    {
     "name": "stdout",
     "output_type": "stream",
     "text": [
      "[[0.         0.5        0.5        0.        ]\n",
      " [0.         0.         0.5        0.5       ]\n",
      " [0.         0.         0.         1.        ]\n",
      " [0.33333333 0.33333333 0.33333333 0.        ]]\n"
     ]
    }
   ],
   "source": [
    "def matrizDeTransicao(A):\n",
    "    n = len(A)\n",
    "    D = np.zeros((n, n))\n",
    "    vecAux = np.ones((n, 1))\n",
    "    soma = A@vecAux\n",
    "    for i in range(n):\n",
    "        D[i][i] = soma[i] \n",
    "    \n",
    "    return np.linalg.inv(D)@A\n",
    "    \n",
    "P = matrizDeTransicao(A)\n",
    "print(P)"
   ]
  },
  {
   "cell_type": "markdown",
   "metadata": {
    "colab_type": "text",
    "id": "kssQbOAavexe"
   },
   "source": [
    "**1.3** Use a função <i>np.linalg.eig</i> para calcular o primeiro autovetor de $P^\\top$. Normalize o autovetor pela sua soma em uma variável chamada <b>autovec</b> e imprima o resultado. (Observação: os elementos do autovetor serão retornados como números complexos, mas a parte imaginária será nula e pode ser ignorada.)"
   ]
  },
  {
   "cell_type": "code",
   "execution_count": 4,
   "metadata": {},
   "outputs": [
    {
     "name": "stdout",
     "output_type": "stream",
     "text": [
      "[0.12903226+0.j 0.19354839+0.j 0.29032258+0.j 0.38709677+0.j]\n"
     ]
    }
   ],
   "source": [
    "PT = P.T\n",
    "\n",
    "autovalor,autovector = np.linalg.eig(PT)\n",
    "autovec = [autovector[0][0], autovector[1][0], autovector[2][0], autovector[3][0]]\n",
    "soma = 0\n",
    "i = 0\n",
    "\n",
    "for valorX in autovec:\n",
    "    soma = soma + valorX\n",
    "    \n",
    "for valorX in autovec:\n",
    "    autovec[i] = valorX/soma\n",
    "    i = i+1    \n",
    "autovec = np.array(autovec)\n",
    "print(autovec)"
   ]
  },
  {
   "cell_type": "markdown",
   "metadata": {
    "colab_type": "text",
    "id": "4jKEgUnEvexh"
   },
   "source": [
    "**1.4** Verifique que o método da potência aplicado a $P^\\top$ retorna uma aproximação para o primeiro autovetor. Atribua o resultado retornado pelo método na variável <b> result_pm </b> e imprima-o."
   ]
  },
  {
   "cell_type": "code",
   "execution_count": 5,
   "metadata": {},
   "outputs": [
    {
     "name": "stdout",
     "output_type": "stream",
     "text": [
      "[[0.12885802]\n",
      " [0.19331115]\n",
      " [0.29024402]\n",
      " [0.38758681]]\n"
     ]
    }
   ],
   "source": [
    "result_pm = powerMethod(PT, niter=10)\n",
    "\n",
    "print(result_pm)"
   ]
  },
  {
   "cell_type": "markdown",
   "metadata": {
    "colab_type": "text",
    "id": "pyAZd73fvexn"
   },
   "source": [
    "**1.5** Implemente uma função <b>powerMethodEps(A, epsilon)</b> que executa o método da potência até que a condição de convergência $\\|w_{t} - w_{t-1}\\| < \\epsilon$ seja atingida. Para a matriz $P^\\top$ com $\\epsilon=10^{-5}$, armazene o resultado do método da potência na variável <b>result_pm_eps</b> *(1.5.1)*, e o número de iterações na variável <b>nb_iters</b> *(1.5.2)*.\n",
    "\n",
    "Imprima o resultado das duas variáveis."
   ]
  },
  {
   "cell_type": "code",
   "execution_count": 6,
   "metadata": {},
   "outputs": [
    {
     "name": "stdout",
     "output_type": "stream",
     "text": [
      "[[0.12903346]\n",
      " [0.19354849]\n",
      " [0.29032191]\n",
      " [0.38709614]]\n",
      "19\n"
     ]
    }
   ],
   "source": [
    "def powerMethodEps(A, epsilon):\n",
    "    n = len(A)\n",
    "    w0 = np.ones((n,1))/n\n",
    "    w1 = A.dot(w0)\n",
    "    nb_iters = 1\n",
    "    \n",
    "    while(np.linalg.norm(w1-w0) >= epsilon):\n",
    "        w0 = w1\n",
    "        w1 = A.dot(w1)\n",
    "        nb_iters = nb_iters + 1\n",
    "        \n",
    "    result_pm_eps = w1\n",
    "    return result_pm_eps, nb_iters\n",
    "\n",
    "result_pm_eps, nb_iters = powerMethodEps(PT, 0.00001)\n",
    "\n",
    "print(result_pm_eps)\n",
    "print(nb_iters)"
   ]
  },
  {
   "cell_type": "markdown",
   "metadata": {
    "colab_type": "text",
    "id": "MQwHkfXvvexr"
   },
   "source": [
    "## Parte II: Pagerank (com saltos aleatórios) em grafo pequeno\n",
    "\n",
    "Agora iremos modificar a matriz A de forma a:\n",
    " * adicionar um novo vértice 4, e\n",
    " * adicionar uma aresta de 3 para 4.\n",
    " \n",
    "Obviamente a matriz de probabilidade de transição não está definida para a nova matriz $A$. Vértices que não possuem arestas de saída (como o vértice 4) são conhecidos como *dangling nodes*. Para resolver este e outros problemas, incluiremos a possibilidade de realizar saltos aleatórios de um vértice para qualquer outro vértice.\n",
    "\n",
    "Em particular, assume-se que com probabilidade $\\alpha$, seguimos uma das arestas de saída em $A$ e, com probabilidade $1-\\alpha$ realizamos um salto aleatório, isto é, transicionamos do vértice $v$ para um dos $n$ vértices do grafo (incluindo $v$) escolhido uniformemente. Quando não existem *dangling nodes*, a nova matriz de probabilidade de transição é dada por\n",
    "\n",
    "$$\n",
    "P = \\alpha D^{-1} A + (1-\\alpha) \\frac{\\mathbf{1}\\mathbf{1}^\\top}{n}\n",
    "$$\n",
    "\n",
    "Quando existem *dangling nodes*, a única possibilidade a partir desses nós é fazer saltos aleatórios. Mais precisamente, se $i$ é um vértice sem arestas de saída, desejamos que a $i$-ésima linha de $P$ seja o vetor $[1/n,\\ldots,1/n]$. Uma forma de satisfazer essa definição é preencher com 1's as linhas de $A$ que correspondem aos *dangling nodes*. Uma desvantagem desta estratégia é que faz com que $A$ fique mais densa (mais elementos não-nulos).\n",
    "\n",
    "Um valor típico usado para $\\alpha$ é $0.85$."
   ]
  },
  {
   "cell_type": "markdown",
   "metadata": {
    "colab_type": "text",
    "id": "KuYrPgEUvexr"
   },
   "source": [
    "**2.1** Crie um novo numpy array chamado <b> A_new </b> contendo o vértice 4 e a aresta (3,4)."
   ]
  },
  {
   "cell_type": "code",
   "execution_count": 7,
   "metadata": {},
   "outputs": [],
   "source": [
    "A_new = np.array([[0,1,1,0,0],[0,0,1,1,0],[0,0,0,1,0],[1,1,1,0,1],[0,0,0,0,0]])"
   ]
  },
  {
   "cell_type": "markdown",
   "metadata": {
    "colab_type": "text",
    "id": "oce_KjnYvexv"
   },
   "source": [
    "**2.2** Crie uma função **fixDangling(M)** que retorna uma cópia modificada da matriz de adjacência **M** onde cada *dangling node* do grafo original possui arestas para todos os vértices do grafo. *Dica:* Você pode criar um vetor $d$ com os graus de saída e acessar as linhas de $M$ correpondentes aos *dangling nodes* por $M[d==0,:]$. Imprima uma nova matriz chamada **A_fixed** retornada após chamar *fixDangling* para **A_new**.  "
   ]
  },
  {
   "cell_type": "code",
   "execution_count": 8,
   "metadata": {},
   "outputs": [
    {
     "name": "stdout",
     "output_type": "stream",
     "text": [
      "[[0 1 1 0 0]\n",
      " [0 0 1 1 0]\n",
      " [0 0 0 1 0]\n",
      " [1 1 1 0 1]\n",
      " [1 1 1 1 1]]\n"
     ]
    }
   ],
   "source": [
    "def fixDangling(M):\n",
    "    Mcopy = M.copy()\n",
    "    n = len(M)\n",
    "    D = np.ones((n))\n",
    "    for i in range(n):\n",
    "        if np.sum(M[i,:]) == 0:\n",
    "            Mcopy[i,:] = D\n",
    "    return Mcopy\n",
    "    \n",
    "A_fixed = fixDangling(A_new)\n",
    "print(A_fixed)"
   ]
  },
  {
   "cell_type": "markdown",
   "metadata": {
    "colab_type": "text",
    "id": "DLlA7cscvexz"
   },
   "source": [
    "**2.3** Crie uma função **matrizDeTransicao(M, alpha)** que receba como parâmetro também a probabilidade *alpha*  de não fazermos um salto aleatório. Você pode assumir que **M** foi retornada por *fixDanglig*, logo, não possui *dangling nodes*. Imprima as matrizes:\n",
    "\n",
    " * *(2.3.1)* **P_2** obtida ao chamar *matrizDeTransicao* para os parâmetros <b>A</b> e <b>alpha</b> = $0.85$;\n",
    " * *(2.3.2)* **P_new** obtida ao chamar *matrizDeTransicao* para os parâmetros **A_fixed** e **alpha** = $0.85$."
   ]
  },
  {
   "cell_type": "code",
   "execution_count": 12,
   "metadata": {},
   "outputs": [
    {
     "name": "stdout",
     "output_type": "stream",
     "text": [
      "[[0.0375     0.4625     0.4625     0.0375    ]\n",
      " [0.0375     0.0375     0.4625     0.4625    ]\n",
      " [0.0375     0.0375     0.0375     0.8875    ]\n",
      " [0.32083333 0.32083333 0.32083333 0.0375    ]]\n",
      "[[0.03  0.455 0.455 0.03  0.03 ]\n",
      " [0.03  0.03  0.455 0.455 0.03 ]\n",
      " [0.03  0.03  0.03  0.88  0.03 ]\n",
      " [0.37  0.2   0.2   0.03  0.2  ]\n",
      " [0.2   0.2   0.2   0.2   0.2  ]]\n"
     ]
    }
   ],
   "source": [
    "def matrizDeTransicao(M, alpha):\n",
    "    n = len(M)\n",
    "    \n",
    "    D = np.zeros((n, n))\n",
    "    vecAux = np.ones((n, 1))\n",
    "    soma = M@vecAux\n",
    "    for i in range(n):\n",
    "        D[i][i] = soma[i] \n",
    "    E = np.ones((n, n))\n",
    "    \n",
    "    for i in range(n):\n",
    "        if D[i][i] != 0:\n",
    "            D[i][i] = 1/D[i][i]\n",
    "        else:\n",
    "             D[i][i] = 0\n",
    "    pg = (((1-alpha)/n)*E)+(alpha*(D@M))\n",
    "    return pg\n",
    "\n",
    "P_2 = matrizDeTransicao(A, 0.85)\n",
    "P_new = matrizDeTransicao(A_fixed, 0.85)\n",
    "print(P_2)\n",
    "print(P_new)"
   ]
  },
  {
   "cell_type": "markdown",
   "metadata": {
    "colab_type": "text",
    "id": "fSXsxfT_vex5"
   },
   "source": [
    "**2.4** Armazene, respectivamente, o resultado do método da potência com:\n",
    "* *(2.4.1)* $P_2^\\top$ e $\\epsilon=10^{-5}$\n",
    "* *(2.4.2)* $P_\\textrm{new}^\\top$ e $\\epsilon=10^{-5}$.\n",
    "\n",
    "nas variáveis **pm_eps_P2** e **pm_eps_Pnew**; "
   ]
  },
  {
   "cell_type": "code",
   "execution_count": 10,
   "metadata": {},
   "outputs": [
    {
     "name": "stdout",
     "output_type": "stream",
     "text": [
      "[[0.14180823]\n",
      " [0.20207804]\n",
      " [0.2879621 ]\n",
      " [0.36815162]]\n",
      "[[0.12190027]\n",
      " [0.17370876]\n",
      " [0.24753563]\n",
      " [0.33495506]\n",
      " [0.12190027]]\n"
     ]
    }
   ],
   "source": [
    "P_2_T = P_2.T\n",
    "P_new_T = P_new.T\n",
    "\n",
    "pm_eps_P2, aux = powerMethodEps(P_2_T, 0.00001)\n",
    "pm_eps_Pnew,aux = powerMethodEps(P_new_T, 0.00001)\n",
    "\n",
    "print(pm_eps_P2)\n",
    "print(pm_eps_Pnew)"
   ]
  },
  {
   "cell_type": "markdown",
   "metadata": {
    "colab_type": "text",
    "id": "qMgo37N1vex8"
   },
   "source": [
    "**2.5** Sejam $i_\\max$ e $i_\\min$ os índices dos vértices com maior e menor PageRank de **A_fixed**. Vamos verificar como a adição de um novo link pode ajudar a promover uma página web (vértice). Adicione uma aresta do vértice $i_\\max$ para o vértice $i_\\min$ (se já houver aresta, aumente de 1 para 2 o elemento da matriz de adjacência). Salve o valor do novo pagerank na variável **new_pagerank**. Qual é o novo pagerank de $i_\\min$?"
   ]
  },
  {
   "cell_type": "code",
   "execution_count": 13,
   "metadata": {},
   "outputs": [
    {
     "name": "stdout",
     "output_type": "stream",
     "text": [
      "[[0.15833366]\n",
      " [0.1702082 ]\n",
      " [0.2425466 ]\n",
      " [0.3259968 ]\n",
      " [0.10291473]]\n"
     ]
    }
   ],
   "source": [
    "A2 = np.array([[0,1,1,0,0],[0,0,1,1,0],[0,0,0,1,0],[2,1,1,0,1],[0,0,0,0,0]])\n",
    "A_fixed = fixDangling(A2)\n",
    "P_25 = matrizDeTransicao(A_fixed, 0.85)\n",
    "P_25T = P_25.T\n",
    "new_pagerank,aux = powerMethodEps(P_25T, 0.00001)\n",
    "print(new_pagerank)"
   ]
  },
  {
   "cell_type": "markdown",
   "metadata": {},
   "source": [
    "Bibliografia:\n",
    "\n",
    "- https://numpy.org/doc/stable/user/basics.creation.html#:~:text=j%5D%5D)-,Intrinsic%20NumPy%20Array%20Creation,The%20default%20dtype%20is%20float64.&text=%3E%3E%3E,-np.\n",
    "\n",
    "- https://numpy.org/doc/stable/reference/generated/numpy.zeros.html\n",
    "\n",
    "- https://docs.scipy.org/doc/numpy-1.17.0/reference/generated/numpy.linalg.eig.html\n",
    "\n",
    "- https://www.kite.com/python/answers/how-to-normalize-an-array-in-numpy-in-python\n",
    "\n",
    "- https://het.as.utexas.edu/HET/Software/Numpy/reference/generated/numpy.linalg.eig.html\n",
    "\n",
    "- https://stackoverflow.com/questions/16296643/convert-tuple-to-list-and-back\n",
    "\n",
    "- https://www.researchgate.net/post/Why_eigenvectors_seem_incorrect_in_python\n"
   ]
  },
  {
   "cell_type": "code",
   "execution_count": null,
   "metadata": {},
   "outputs": [],
   "source": []
  }
 ],
 "metadata": {
  "colab": {
   "collapsed_sections": [],
   "name": "EP2_2020_1.ipynb",
   "provenance": []
  },
  "kernelspec": {
   "display_name": "Python 3",
   "language": "python",
   "name": "python3"
  },
  "language_info": {
   "codemirror_mode": {
    "name": "ipython",
    "version": 3
   },
   "file_extension": ".py",
   "mimetype": "text/x-python",
   "name": "python",
   "nbconvert_exporter": "python",
   "pygments_lexer": "ipython3",
   "version": "3.7.3"
  }
 },
 "nbformat": 4,
 "nbformat_minor": 1
}
