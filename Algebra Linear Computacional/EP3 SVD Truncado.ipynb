{
 "cells": [
  {
   "cell_type": "markdown",
   "metadata": {},
   "source": [
    "# Exercício de Programação 3: SVD truncado\n",
    "\n",
    "<font color=\"red\">**Prazo de submissão: 23:55 do dia 11/09/2020** </font>\n",
    "\n",
    "2020.1 Álgebra Linear Computacional - DCC - UFMG\n",
    "\n",
    "Erickson - Fabricio\n",
    "\n",
    "Instruções:\n",
    "* Antes de submeter suas soluções, certifique-se de que tudo roda como esperado. Primeiro, **reinicie o kernel** no menu, selecione Kernel$\\rightarrow$Restart e então execute **todas as células** (no menu, Cell$\\rightarrow$Run All)\n",
    "* Apenas o arquivo .ipynb deve ser submetido. Ele não deve ser compactado.\n",
    "* Não deixe de preencher seu nome e número de matrícula na célula a seguir\n",
    "\n",
    "**Nome dos alunos:** Diego Vinicius de Oliveira Silva<br>\n",
    "                     Vinícius Correia<br>\n",
    "                     Rafael Lenti<br>\n",
    "                     Lucca Silva<br>\n",
    "\n",
    "**Matriculas:** 2019054471<br>\n",
    "                2019055044<br>\n",
    "                2019054951<br>\n",
    "                2019054773<br>"
   ]
  },
  {
   "cell_type": "markdown",
   "metadata": {},
   "source": [
    "Neste exercício vamos estudar as aproximações obtidas pelo SVD truncado. Vamos começar carregando os dados do 20_newsgroups.\n",
    "\n",
    "*Traduzido da documentação do scikit learn:*\n",
    "\"O conjunto de dados \"20 newsgroups\" compreende cerca de 18.000 postagens de grupos de notícias em 20 tópicos divididos em dois subconjuntos: um para treinamento (ou desenvolvimento) e outro para teste (ou para avaliação de desempenho). A divisão entre o trem e o conjunto de teste é baseada em mensagens postadas antes e depois de uma data específica.\""
   ]
  },
  {
   "cell_type": "code",
   "execution_count": 1,
   "metadata": {},
   "outputs": [],
   "source": [
    "import numpy as np\n",
    "from sklearn.datasets import fetch_20newsgroups\n",
    "from sklearn import decomposition\n",
    "from scipy import linalg\n",
    "import matplotlib.pyplot as plt\n",
    "from sklearn.feature_extraction.text import CountVectorizer\n",
    "%matplotlib inline\n",
    "np.set_printoptions(suppress=True)"
   ]
  },
  {
   "cell_type": "code",
   "execution_count": 2,
   "metadata": {
    "scrolled": false
   },
   "outputs": [
    {
     "data": {
      "text/plain": [
       "(2034, 26576)"
      ]
     },
     "execution_count": 2,
     "metadata": {},
     "output_type": "execute_result"
    }
   ],
   "source": [
    "categories = ['alt.atheism', 'talk.religion.misc', 'comp.graphics', 'sci.space']\n",
    "remove = ('headers', 'footers', 'quotes')\n",
    "newsgroups_train = fetch_20newsgroups(subset='train', categories=categories, remove=remove)\n",
    "\n",
    "vectorizer = CountVectorizer(stop_words='english')\n",
    "vectors = vectorizer.fit_transform(newsgroups_train.data).todense() # (documents, vocab)\n",
    "vectors.shape #, vectors.nnz / vectors.shape[0], row_means.shape"
   ]
  },
  {
   "cell_type": "code",
   "execution_count": 3,
   "metadata": {
    "tags": []
   },
   "outputs": [
    {
     "name": "stdout",
     "output_type": "stream",
     "text": [
      "CPU times: user 45.2 s, sys: 3.06 s, total: 48.2 s\n",
      "Wall time: 13.8 s\n"
     ]
    }
   ],
   "source": [
    "%time U, s, Vt = linalg.svd(vectors, full_matrices=False)"
   ]
  },
  {
   "cell_type": "markdown",
   "metadata": {},
   "source": [
    "# Questão 1\n",
    "\n",
    "Usando a função plot de plt, crie um gráfico que mostre os valores singulares da matriz vectors."
   ]
  },
  {
   "cell_type": "code",
   "execution_count": 4,
   "metadata": {},
   "outputs": [
    {
     "data": {
      "text/plain": [
       "Text(0, 0.5, 'valores singulares')"
      ]
     },
     "execution_count": 4,
     "metadata": {},
     "output_type": "execute_result"
    },
    {
     "data": {
      "image/png": "[encoded data removed]",
      "text/plain": [
       "<Figure size 432x288 with 1 Axes>"
      ]
     },
     "metadata": {
      "needs_background": "light"
     },
     "output_type": "display_data"
    }
   ],
   "source": [
    "# solucao da Questao 1\n",
    "\n",
    "### BEGIN SOLUTION\n",
    "plt.plot(s);\n",
    "### END SOLUTION\n",
    "plt.ylabel('valores singulares')"
   ]
  },
  {
   "cell_type": "markdown",
   "metadata": {},
   "source": [
    "## Questão 2\n",
    "\n",
    "Repita o gráfico da questão anterior, mas desta vez, tente dar um \"zoom\" para mostrar onde está o joelho da curva, ou seja, o ponto a partir do qual os valores passam a ser muito baixos. Para isto, você pode pegar um slice de ```s```, ou usar a função ```plt.xlims```."
   ]
  },
  {
   "cell_type": "code",
   "execution_count": 5,
   "metadata": {},
   "outputs": [
    {
     "data": {
      "text/plain": [
       "Text(0, 0.5, 'valores singulares')"
      ]
     },
     "execution_count": 5,
     "metadata": {},
     "output_type": "execute_result"
    },
    {
     "data": {
      "image/png": "[encoded data removed]",
      "text/plain": [
       "<Figure size 432x288 with 1 Axes>"
      ]
     },
     "metadata": {
      "needs_background": "light"
     },
     "output_type": "display_data"
    }
   ],
   "source": [
    "# solucao da Questao 2\n",
    "\n",
    "### BEGIN SOLUTION\n",
    "plt.xlim([5, 50])\n",
    "plt.plot(s)\n",
    "### END SOLUTION\n",
    "plt.ylabel('valores singulares')"
   ]
  },
  {
   "cell_type": "markdown",
   "metadata": {},
   "source": [
    "## Questão 3\n",
    "\n",
    "Seja $A$ uma matriz $m \\times n$. O SVD reduzido de $A$ retorna $U_{m \\times k}$, $\\Sigma_{k \\times k}$ e $V^\\top_{k \\times n}$, onde $k = \\min(m,n)$. Já o SVD truncado de posto $r < \\min(m,n)$ retorna apenas as $r$ primeiras colunas de $U$, os $r$ maiores valores singulares de $\\Sigma$ e as $r$ primeiras linhas de $V^\\top$.\n",
    "\n",
    "Uma propriedade importante do SVD truncado é que ele retorna a melhor aproximação $A_r$ para uma matriz $A$ dentre todas as matrizes de posto $r$, onde a qualidade da aproximação é medida por $\\| A - A_r \\|_F$, sendo $\\| B \\|_F = \\sqrt{\\sum_i \\sum_j B_{i,j}^2}$ a norma de Frobenius de uma matriz $B$.\n",
    "\n",
    "Nesta questão, vamos ver como a qualidade da aproximação aumenta com $r$, variando $r$ em $\\{1,2,4,\\ldots,2^7\\}$. Primeiramente, vamos encontrar a decomposição SVD reduzida para a matriz ```vectors```. Depois disso, vamos variar o número $r$ de valores singulares considerados para encontrar aproximações $A_r$ para, finalmente, calcular $\\| A - A_r \\|_F$. Para facilitar a resolução deste problema, parte do código já foi fornecida. Para calcular a norma Frobenius, consulte a documentação de ```np.linalg.norm```."
   ]
  },
  {
   "cell_type": "code",
   "execution_count": 6,
   "metadata": {
    "scrolled": false
   },
   "outputs": [
    {
     "data": {
      "text/plain": [
       "Text(0.5, 0, 'r')"
      ]
     },
     "execution_count": 6,
     "metadata": {},
     "output_type": "execute_result"
    },
    {
     "data": {
      "image/png": "[encoded data removed]",
      "text/plain": [
       "<Figure size 432x288 with 1 Axes>"
      ]
     },
     "metadata": {
      "needs_background": "light"
     },
     "output_type": "display_data"
    }
   ],
   "source": [
    "#solucao da Questao 3\n",
    "\n",
    "m,n = vectors.shape\n",
    "k = min(m,n)\n",
    "\n",
    "A_r = np.zeros((m,n))\n",
    "erro = np.zeros(8)\n",
    "r_values = 2**np.arange(8)\n",
    "sigma = np.diag(s)\n",
    "for i in range(len(r_values)):\n",
    "    r = r_values[i]\n",
    "    ### BEGIN SOLUTION\n",
    "    # calcular a aproximacao A_r de posto r para A\n",
    "    s_sliced = sigma[:r, :r]\n",
    "    U_sliced = U[:U.shape[0], :r]\n",
    "    Vt_sliced = Vt[:r, :Vt.shape[1]]\n",
    "    \n",
    "    A_r = U_sliced.dot(s_sliced.dot(Vt_sliced))\n",
    "    norm_A_r = np.linalg.norm(vectors - A_r, 'fro')\n",
    "    \n",
    "    erro[i] = norm_A_r\n",
    "    ### END SOLUTION\n",
    "\n",
    "# código para plotar o vetor erro\n",
    "### BEGIN SOLUTION\n",
    "plt.plot(r_values, erro)\n",
    "### END SOLUTION\n",
    "plt.ylabel(r'Erro $\\|A-A_r\\|_F$')\n",
    "plt.xlabel('r')"
   ]
  },
  {
   "cell_type": "markdown",
   "metadata": {},
   "source": [
    "## Questão 4\n",
    "\n",
    "Vamos criar e implementar a heurística para a escolha de $k$ vista nas vídeo aulas. Deseja-se obter uma representação de baixa dimensão $k$ para a matriz ```vectors```, tal que a soma dos quadrados dos $k$ maiores valores singulares é pelo menos 80% da soma dos quadrados de todos os valores singulares. Implemente uma função que recebe um vetor de valores singulares em ordem decrescente e retorna o menor $k$ que satisfaz esta condição."
   ]
  },
  {
   "cell_type": "code",
   "execution_count": 7,
   "metadata": {},
   "outputs": [],
   "source": [
    "# solucao da Questao 4\n",
    "\n",
    "def escolheK(s):\n",
    "    \"\"\" Retorna o menor k tal que a soma dos quadrados dos k primeiros elementos do array s é >= 80%\n",
    "        da soma dos quadrados dos elementos de s.\n",
    "    \n",
    "        Entrada:\n",
    "            s é um vetor contendo os valores singulares em ordem decrescente\n",
    "    \"\"\"\n",
    "    k = 0\n",
    "    ### BEGIN SOLUTION\n",
    "    sumSquares = 0\n",
    "    for i in range(len(s)):\n",
    "        sumSquares += s[i] * s[i]\n",
    "        \n",
    "    parcialSumSquares = 0\n",
    "    for i in range(len(s)):\n",
    "        parcialSumSquares += s[i] * s[i]\n",
    "        if (parcialSumSquares / sumSquares  >= 0.8):\n",
    "            k = i + 1\n",
    "            break;\n",
    "        \n",
    "    ### END SOLUTION\n",
    "    return k"
   ]
  },
  {
   "cell_type": "code",
   "execution_count": 8,
   "metadata": {},
   "outputs": [
    {
     "name": "stdout",
     "output_type": "stream",
     "text": [
      "[1000  900  800  700  600  500  400  300  200  100   90   80   70   60\n",
      "   50   40   30   20   10    9    8    7    6    5    4    3    2]\n"
     ]
    }
   ],
   "source": [
    "s_example = np.hstack((np.arange(1000,100,-100),np.arange(100,10,-10),np.arange(10,1,-1)))\n",
    "print(s_example)\n",
    "\n",
    "assert escolheK(s_example) == 5\n",
    "assert escolheK(s) == 69"
   ]
  },
  {
   "cell_type": "code",
   "execution_count": null,
   "metadata": {},
   "outputs": [],
   "source": []
  }
 ],
 "metadata": {
  "kernelspec": {
   "display_name": "Python 3",
   "language": "python",
   "name": "python3"
  },
  "language_info": {
   "codemirror_mode": {
    "name": "ipython",
    "version": 3
   },
   "file_extension": ".py",
   "mimetype": "text/x-python",
   "name": "python",
   "nbconvert_exporter": "python",
   "pygments_lexer": "ipython3",
   "version": "3.7.6"
  }
 },
 "nbformat": 4,
 "nbformat_minor": 2
}
